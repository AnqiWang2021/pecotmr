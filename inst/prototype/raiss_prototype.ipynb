{
 "cells": [
  {
   "cell_type": "markdown",
   "id": "elementary-breach",
   "metadata": {
    "kernel": "R"
   },
   "source": [
    "Here I test the RAISS model function between Python code from https://gitlab.pasteur.fr/statistical-genetics/raiss/-/blob/master/raiss/stat_models.py and the ChatGPT 4 generated R codes."
   ]
  },
  {
   "cell_type": "markdown",
   "id": "valuable-flight",
   "metadata": {
    "kernel": "SoS"
   },
   "source": [
    "R code:"
   ]
  },
  {
   "cell_type": "code",
   "execution_count": 26,
   "id": "occasional-denmark",
   "metadata": {
    "kernel": "R"
   },
   "outputs": [],
   "source": [
    "raiss_model <- function(zt, sig_t, sig_i_t, lamb=0.01, rcond=0.01, batch=TRUE, report_condition_number=T) {\n",
    "  # Translated content from Python function\n",
    "  sig_t_inv <- invert_sig_t(sig_t, lamb, rcond)\n",
    "  if (is.null(sig_t_inv)) {\n",
    "    return(NULL)\n",
    "  }\n",
    "\n",
    "  if (batch) {\n",
    "    \n",
    "    condition_number <- if(report_condition_number) rep(kappa(sig_t, exact=T, norm=\"2\"), nrow(sig_i_t)) else NA\n",
    "    correct_inversion <- rep(check_inversion(sig_t, sig_t_inv), nrow(sig_i_t))\n",
    "  } else {\n",
    "    condition_number <- if(report_condition_number) kappa(sig_t, exact=T, norm=\"2\") else NA\n",
    "    correct_inversion <- check_inversion(sig_t, sig_t_inv)\n",
    "  }\n",
    "\n",
    "\n",
    "  var_ld_score <- compute_var(sig_i_t, sig_t_inv, lamb, batch)\n",
    "  var <- var_ld_score$var\n",
    "  ld_score <- var_ld_score$ld_score\n",
    "\n",
    "  mu <- compute_mu(sig_i_t, sig_t_inv, zt)\n",
    "  var_norm <- var_in_boundaries(var, lamb)\n",
    "\n",
    "  R2 <- ((1 + lamb) - var_norm)\n",
    "  mu <- mu / sqrt(R2)\n",
    "\n",
    "  return(list(var=var_norm, mu=mu, ld_score=ld_score, condition_number=condition_number, correct_inversion=correct_inversion))\n",
    "}\n",
    "\n",
    "compute_mu <- function(sig_i_t, sig_t_inv, zt) {\n",
    "  return(sig_i_t %*% (sig_t_inv %*% zt))\n",
    "}\n",
    "\n",
    "compute_var <- function(sig_i_t, sig_t_inv, lamb, batch=TRUE) {\n",
    "  if (batch) {\n",
    "    var <- (1 + lamb) - rowSums((sig_i_t %*% sig_t_inv) * sig_i_t)\n",
    "    ld_score <- rowSums(sig_i_t^2)\n",
    "  } else {\n",
    "    var <- (1 + lamb) - (sig_i_t %*% (sig_t_inv %*% t(sig_i_t)))\n",
    "    ld_score <- sum(sig_i_t^2)\n",
    "  }\n",
    "  return(list(var=var, ld_score=ld_score))\n",
    "}\n",
    "\n",
    "check_inversion <- function(sig_t, sig_t_inv) {\n",
    "  return(all.equal(sig_t, sig_t %*% (sig_t_inv %*% sig_t), tolerance=1e-5))\n",
    "}\n",
    "\n",
    "var_in_boundaries <- function(var, lamb) {\n",
    "  var[var < 0] <- 0\n",
    "  var[var > (0.99999 + lamb)] <- 1\n",
    "  return(var)\n",
    "}\n",
    "\n",
    "invert_sig_t <- function(sig_t, lamb, rcond) {\n",
    "  diag(sig_t) <- 1 + lamb\n",
    "  sig_t_inv <- MASS::ginv(sig_t, tol=rcond)\n",
    "  return(sig_t_inv)\n",
    "}"
   ]
  },
  {
   "cell_type": "markdown",
   "id": "outer-presentation",
   "metadata": {
    "kernel": "SoS"
   },
   "source": [
    "Python code:"
   ]
  },
  {
   "cell_type": "code",
   "execution_count": 27,
   "id": "expanded-mirror",
   "metadata": {
    "kernel": "Python3"
   },
   "outputs": [],
   "source": [
    "\"\"\"\n",
    "This module contain the statistical library for imputation.\n",
    "\n",
    "Notation style of matrices subset and vectors are based on the publication:\n",
    "\n",
    "Bogdan Pasaniuc, Noah Zaitlen, Huwenbo Shi, Gaurav Bhatia, Alexander Gusev,\n",
    "Joseph Pickrell, Joel Hirschhorn, David P. Strachan, Nick Patterson,\n",
    "Alkes L. Price;\n",
    "Fast and accurate imputation of summary statistics enhances evidence\n",
    "of functional enrichment, Bioinformatics, Volume 30, Issue 20, 15 October 2014,\n",
    "Pages 2906–2914\n",
    "\n",
    "\"\"\"\n",
    "\n",
    "import numpy as np\n",
    "import scipy as sc\n",
    "import scipy.linalg\n",
    "\n",
    "def compute_mu(sig_i_t, sig_t_inv, zt):\n",
    "    \"\"\"\n",
    "    Compute the estimation of z-score from neighborring snp\n",
    "\n",
    "    Args:\n",
    "        sig_i_t (matrix?) : correlation matrix with line corresponding to\n",
    "        unknown Snp (snp to impute) and column to known SNPs\n",
    "        sig_t_inv (np.ndarray): inverse of the correlation matrix of known\n",
    "        matrix\n",
    "        zt (np.array?): Zscores of known snp\n",
    "    Returns:\n",
    "        mu_i (np.array): a vector of length i containing the estimate of zscore\n",
    "\n",
    "    \"\"\"\n",
    "    return np.dot(sig_i_t, np.dot(sig_t_inv, zt))\n",
    "\n",
    "def compute_var(sig_i_t, sig_t_inv, lamb, batch=True):\n",
    "    \"\"\"\n",
    "    Compute the expected variance of the imputed SNPs\n",
    "    Args:\n",
    "        sig_i_t (matrix?) : correlation matrix with line corresponding to\n",
    "        unknown Snp (snp to impute) and column to known SNPs\n",
    "        sig_t_inv (np.ndarray): inverse of the correlation matrix of known\n",
    "        matrix\n",
    "        lamb (float): regularization term added to matrix\n",
    "\n",
    "    \"\"\"\n",
    "\n",
    "    if batch:\n",
    "        var = (1 + lamb) - np.einsum('ij,jk,ki->i', sig_i_t, sig_t_inv ,sig_i_t.transpose())\n",
    "        ld_score = (sig_i_t**2).sum(1)\n",
    "    else:\n",
    "        var = (1 + lamb) - np.dot(sig_i_t, np.dot(sig_t_inv, sig_i_t.transpose()))\n",
    "        ld_score = (sig_i_t**2).sum()\n",
    "    return var, ld_score\n",
    "\n",
    "def check_inversion(sig_t, sig_t_inv):\n",
    "    return np.allclose(sig_t, np.dot(sig_t, np.dot(sig_t_inv, sig_t)))\n",
    "\n",
    "def var_in_boundaries(var,lamb):\n",
    "    \"\"\"\n",
    "    Forces the variance to be in the 0 to 1+lambda boundary\n",
    "    theoritically we shouldn't have to do that\n",
    "    \"\"\"\n",
    "    id_neg = np.where(var < 0)\n",
    "    var_norm = var\n",
    "    var[id_neg] = 0\n",
    "    id_inf = np.where(var > (0.99999+lamb))\n",
    "    var[id_inf] = 1\n",
    "\n",
    "    return var\n",
    "\n",
    "def invert_sig_t(sig_t, lamb, rcond):\n",
    "    try:\n",
    "        np.fill_diagonal(sig_t, (1+lamb))\n",
    "        sig_t_inv = scipy.linalg.pinv(sig_t, rcond=rcond)\n",
    "        return(sig_t_inv)\n",
    "    except np.linalg.LinAlgError:\n",
    "        invert_sig_t(sig_t, lamb*1.1, rcond*1.1)\n",
    "\n",
    "def raiss_model(zt, sig_t, sig_i_t, lamb=0.01, rcond=0.01,  batch=True):\n",
    "    \"\"\"\n",
    "    Compute the variance\n",
    "    Args:\n",
    "        zt (np.array): the vector of known Z scores\n",
    "        sig_t (np.ndarray) : the matrix of known Linkage desiquilibrium\n",
    "         correlation\n",
    "        sig_i_t (np.ndarray): correlation matrix of known matrix\n",
    "        lamb (float): regularization term added to the diagonal of the sig_t matrix\n",
    "        rcond (float): threshold to filter eigenvector with a eigenvalue under rcond\n",
    "        make inversion biased but much more numerically robust\n",
    "    \"\"\"\n",
    "    sig_t_inv = invert_sig_t(sig_t, lamb, rcond)\n",
    "    if sig_t_inv is None:\n",
    "        return None\n",
    "    else:\n",
    "        if batch:\n",
    "            condition_number = np.array([np.linalg.cond(sig_t)]*sig_i_t.shape[0])\n",
    "            correct_inversion = np.array([check_inversion(sig_t, sig_t_inv)]*sig_i_t.shape[0])\n",
    "        else:\n",
    "            condition_number = np.linalg.cond(sig_t)\n",
    "            correct_inversion = check_inversion(sig_t, sig_t_inv)\n",
    "        var, ld_score = compute_var(sig_i_t, sig_t_inv, lamb, batch)\n",
    "\n",
    "        mu = compute_mu(sig_i_t, sig_t_inv, zt)\n",
    "        var_norm = var_in_boundaries(var, lamb)\n",
    "\n",
    "        R2 = ((1+lamb)-var_norm)\n",
    "\n",
    "        mu = mu / np.sqrt(R2)\n",
    "        return({\"var\" : var, \"mu\" : mu, \"ld_score\" : ld_score, \"condition_number\" : condition_number, \"correct_inversion\":correct_inversion })"
   ]
  },
  {
   "cell_type": "markdown",
   "id": "nominated-nashville",
   "metadata": {
    "kernel": "Python3"
   },
   "source": [
    "Simulate some data,"
   ]
  },
  {
   "cell_type": "code",
   "execution_count": 28,
   "id": "micro-browse",
   "metadata": {
    "kernel": "Python3"
   },
   "outputs": [],
   "source": [
    "import numpy as np\n",
    "import pandas as pd\n",
    "\n",
    "np.random.seed(0)  # Set seed for reproducibility\n",
    "\n",
    "# Generate test data\n",
    "n_known = 5   # Number of known SNPs\n",
    "n_unknown = 3  # Number of unknown SNPs\n",
    "\n",
    "# Known linkage disequilibrium (LD) matrix\n",
    "sig_t = np.random.rand(n_known, n_known)\n",
    "sig_t = np.dot(sig_t, sig_t.transpose())  # Make it symmetric and positive definite\n",
    "\n",
    "# Correlation matrix with rows for unknown SNPs and columns for known SNPs\n",
    "sig_i_t = np.random.rand(n_unknown, n_known)\n",
    "\n",
    "# Vector of known z-scores\n",
    "zt = np.random.rand(n_known)\n",
    "\n",
    "# Save to CSV files\n",
    "np.savetxt(\"sig_t.csv\", sig_t, delimiter=\",\")\n",
    "np.savetxt(\"sig_i_t.csv\", sig_i_t, delimiter=\",\")\n",
    "np.savetxt(\"zt.csv\", zt, delimiter=\",\")\n"
   ]
  },
  {
   "cell_type": "markdown",
   "id": "corporate-gathering",
   "metadata": {
    "kernel": "Python3"
   },
   "source": [
    "Analys with Python:"
   ]
  },
  {
   "cell_type": "code",
   "execution_count": 29,
   "id": "likely-province",
   "metadata": {
    "kernel": "Python3"
   },
   "outputs": [
    {
     "data": {
      "text/plain": [
       "{'var': array([1.        , 1.        , 0.76142815]),\n",
       " 'mu': array([1.2253736 , 0.89356343, 0.36750296]),\n",
       " 'ld_score': array([1.76671864, 1.20097081, 2.49228169]),\n",
       " 'condition_number': array([249.9064389, 249.9064389, 249.9064389]),\n",
       " 'correct_inversion': array([False, False, False])}"
      ]
     },
     "execution_count": 29,
     "metadata": {},
     "output_type": "execute_result"
    }
   ],
   "source": [
    "raiss_model(zt, sig_t, sig_i_t)"
   ]
  },
  {
   "cell_type": "markdown",
   "id": "closed-swing",
   "metadata": {
    "kernel": "Python3"
   },
   "source": [
    "Load data to R:"
   ]
  },
  {
   "cell_type": "code",
   "execution_count": 30,
   "id": "collaborative-science",
   "metadata": {
    "kernel": "R"
   },
   "outputs": [],
   "source": [
    "# Read the data\n",
    "sig_t <- read.csv(\"sig_t.csv\", header = FALSE, sep = \",\")\n",
    "sig_i_t <- read.csv(\"sig_i_t.csv\", header = FALSE, sep = \",\")\n",
    "zt <- read.csv(\"zt.csv\", header = FALSE, sep = \",\")\n",
    "\n",
    "# Convert to matrices/vectors\n",
    "sig_t <- as.matrix(sig_t)\n",
    "sig_i_t <- as.matrix(sig_i_t)\n",
    "zt <- as.vector(t(zt))"
   ]
  },
  {
   "cell_type": "code",
   "execution_count": 31,
   "id": "necessary-stations",
   "metadata": {
    "kernel": "R"
   },
   "outputs": [
    {
     "data": {
      "text/html": [
       "<dl>\n",
       "\t<dt>$var</dt>\n",
       "\t\t<dd><style>\n",
       ".list-inline {list-style: none; margin:0; padding: 0}\n",
       ".list-inline>li {display: inline-block}\n",
       ".list-inline>li:not(:last-child)::after {content: \"\\00b7\"; padding: 0 .5ex}\n",
       "</style>\n",
       "<ol class=list-inline><li>1</li><li>1</li><li>0.761428145762479</li></ol>\n",
       "</dd>\n",
       "\t<dt>$mu</dt>\n",
       "\t\t<dd><table>\n",
       "<caption>A matrix: 3 × 1 of type dbl</caption>\n",
       "<tbody>\n",
       "\t<tr><td>1.2253736</td></tr>\n",
       "\t<tr><td>0.8935634</td></tr>\n",
       "\t<tr><td>0.3675030</td></tr>\n",
       "</tbody>\n",
       "</table>\n",
       "</dd>\n",
       "\t<dt>$ld_score</dt>\n",
       "\t\t<dd><style>\n",
       ".list-inline {list-style: none; margin:0; padding: 0}\n",
       ".list-inline>li {display: inline-block}\n",
       ".list-inline>li:not(:last-child)::after {content: \"\\00b7\"; padding: 0 .5ex}\n",
       "</style>\n",
       "<ol class=list-inline><li>1.76671863677755</li><li>1.20097081415908</li><li>2.49228169349272</li></ol>\n",
       "</dd>\n",
       "\t<dt>$condition_number</dt>\n",
       "\t\t<dd><style>\n",
       ".list-inline {list-style: none; margin:0; padding: 0}\n",
       ".list-inline>li {display: inline-block}\n",
       ".list-inline>li:not(:last-child)::after {content: \"\\00b7\"; padding: 0 .5ex}\n",
       "</style>\n",
       "<ol class=list-inline><li>3667.68449128559</li><li>3667.68449128559</li><li>3667.68449128559</li></ol>\n",
       "</dd>\n",
       "\t<dt>$correct_inversion</dt>\n",
       "\t\t<dd><style>\n",
       ".list-inline {list-style: none; margin:0; padding: 0}\n",
       ".list-inline>li {display: inline-block}\n",
       ".list-inline>li:not(:last-child)::after {content: \"\\00b7\"; padding: 0 .5ex}\n",
       "</style>\n",
       "<ol class=list-inline><li>'Mean relative difference: 0.1575547'</li><li>'Mean relative difference: 0.1575547'</li><li>'Mean relative difference: 0.1575547'</li></ol>\n",
       "</dd>\n",
       "</dl>\n"
      ],
      "text/latex": [
       "\\begin{description}\n",
       "\\item[\\$var] \\begin{enumerate*}\n",
       "\\item 1\n",
       "\\item 1\n",
       "\\item 0.761428145762479\n",
       "\\end{enumerate*}\n",
       "\n",
       "\\item[\\$mu] A matrix: 3 × 1 of type dbl\n",
       "\\begin{tabular}{l}\n",
       "\t 1.2253736\\\\\n",
       "\t 0.8935634\\\\\n",
       "\t 0.3675030\\\\\n",
       "\\end{tabular}\n",
       "\n",
       "\\item[\\$ld\\_score] \\begin{enumerate*}\n",
       "\\item 1.76671863677755\n",
       "\\item 1.20097081415908\n",
       "\\item 2.49228169349272\n",
       "\\end{enumerate*}\n",
       "\n",
       "\\item[\\$condition\\_number] \\begin{enumerate*}\n",
       "\\item 3667.68449128559\n",
       "\\item 3667.68449128559\n",
       "\\item 3667.68449128559\n",
       "\\end{enumerate*}\n",
       "\n",
       "\\item[\\$correct\\_inversion] \\begin{enumerate*}\n",
       "\\item 'Mean relative difference: 0.1575547'\n",
       "\\item 'Mean relative difference: 0.1575547'\n",
       "\\item 'Mean relative difference: 0.1575547'\n",
       "\\end{enumerate*}\n",
       "\n",
       "\\end{description}\n"
      ],
      "text/markdown": [
       "$var\n",
       ":   1. 1\n",
       "2. 1\n",
       "3. 0.761428145762479\n",
       "\n",
       "\n",
       "\n",
       "$mu\n",
       ":   \n",
       "A matrix: 3 × 1 of type dbl\n",
       "\n",
       "| 1.2253736 |\n",
       "| 0.8935634 |\n",
       "| 0.3675030 |\n",
       "\n",
       "\n",
       "$ld_score\n",
       ":   1. 1.76671863677755\n",
       "2. 1.20097081415908\n",
       "3. 2.49228169349272\n",
       "\n",
       "\n",
       "\n",
       "$condition_number\n",
       ":   1. 3667.68449128559\n",
       "2. 3667.68449128559\n",
       "3. 3667.68449128559\n",
       "\n",
       "\n",
       "\n",
       "$correct_inversion\n",
       ":   1. 'Mean relative difference: 0.1575547'\n",
       "2. 'Mean relative difference: 0.1575547'\n",
       "3. 'Mean relative difference: 0.1575547'\n",
       "\n",
       "\n",
       "\n",
       "\n",
       "\n"
      ],
      "text/plain": [
       "$var\n",
       "[1] 1.0000000 1.0000000 0.7614281\n",
       "\n",
       "$mu\n",
       "          [,1]\n",
       "[1,] 1.2253736\n",
       "[2,] 0.8935634\n",
       "[3,] 0.3675030\n",
       "\n",
       "$ld_score\n",
       "[1] 1.766719 1.200971 2.492282\n",
       "\n",
       "$condition_number\n",
       "[1] 3667.684 3667.684 3667.684\n",
       "\n",
       "$correct_inversion\n",
       "[1] \"Mean relative difference: 0.1575547\" \"Mean relative difference: 0.1575547\"\n",
       "[3] \"Mean relative difference: 0.1575547\"\n"
      ]
     },
     "metadata": {},
     "output_type": "display_data"
    }
   ],
   "source": [
    "raiss_model(zt,sig_t,sig_i_t)"
   ]
  },
  {
   "cell_type": "markdown",
   "id": "abroad-health",
   "metadata": {
    "kernel": "R"
   },
   "source": [
    "Condition number does not match. Not sure why because the following looks okay:"
   ]
  },
  {
   "cell_type": "code",
   "execution_count": 32,
   "id": "introductory-boards",
   "metadata": {
    "kernel": "Python3"
   },
   "outputs": [
    {
     "data": {
      "text/plain": [
       "2.6180339887498953"
      ]
     },
     "execution_count": 32,
     "metadata": {},
     "output_type": "execute_result"
    }
   ],
   "source": [
    "import numpy as np\n",
    "\n",
    "# Example matrix\n",
    "A = np.array([[1, 1], [0, 2]])\n",
    "\n",
    "# Compute the condition number using SVD (default)\n",
    "np.linalg.cond(A)\n"
   ]
  },
  {
   "cell_type": "code",
   "execution_count": 33,
   "id": "phantom-determination",
   "metadata": {
    "kernel": "R"
   },
   "outputs": [
    {
     "data": {
      "text/html": [
       "2.6180339887499"
      ],
      "text/latex": [
       "2.6180339887499"
      ],
      "text/markdown": [
       "2.6180339887499"
      ],
      "text/plain": [
       "[1] 2.618034"
      ]
     },
     "metadata": {},
     "output_type": "display_data"
    }
   ],
   "source": [
    "A <- matrix(c(1, 1, 0, 2), nrow = 2, byrow = TRUE)\n",
    "kappa(A, exact=T, norm=\"2\")"
   ]
  },
  {
   "cell_type": "markdown",
   "id": "soviet-matter",
   "metadata": {
    "kernel": "R"
   },
   "source": [
    "But this is different:"
   ]
  },
  {
   "cell_type": "code",
   "execution_count": 34,
   "id": "noble-threshold",
   "metadata": {
    "kernel": "Python3"
   },
   "outputs": [
    {
     "data": {
      "text/plain": [
       "249.90643890226198"
      ]
     },
     "execution_count": 34,
     "metadata": {},
     "output_type": "execute_result"
    }
   ],
   "source": [
    "np.linalg.cond(sig_t)"
   ]
  },
  {
   "cell_type": "code",
   "execution_count": 35,
   "id": "ruled-soviet",
   "metadata": {
    "kernel": "R"
   },
   "outputs": [
    {
     "data": {
      "text/html": [
       "3667.68449128559"
      ],
      "text/latex": [
       "3667.68449128559"
      ],
      "text/markdown": [
       "3667.68449128559"
      ],
      "text/plain": [
       "[1] 3667.684"
      ]
     },
     "metadata": {},
     "output_type": "display_data"
    }
   ],
   "source": [
    "kappa(sig_t, exact=T, norm=\"2\")"
   ]
  },
  {
   "cell_type": "markdown",
   "id": "greenhouse-grammar",
   "metadata": {
    "kernel": "R"
   },
   "source": [
    "However, consider this quantity is not used any where in the rest of the code, I skip computing it in my implementation with an option"
   ]
  },
  {
   "cell_type": "code",
   "execution_count": null,
   "id": "understanding-pilot",
   "metadata": {
    "kernel": "R"
   },
   "outputs": [],
   "source": []
  }
 ],
 "metadata": {
  "kernelspec": {
   "display_name": "SoS",
   "language": "sos",
   "name": "sos"
  },
  "language_info": {
   "codemirror_mode": "sos",
   "file_extension": ".sos",
   "mimetype": "text/x-sos",
   "name": "sos",
   "nbconvert_exporter": "sos_notebook.converter.SoS_Exporter",
   "pygments_lexer": "sos"
  },
  "sos": {
   "kernels": [
    [
     "Python3",
     "python3",
     "Python3",
     "#FFD91A",
     {
      "name": "ipython",
      "version": 3
     }
    ],
    [
     "R",
     "ir",
     "R",
     "#DCDCDA",
     "r"
    ]
   ],
   "version": "0.22.4"
  }
 },
 "nbformat": 4,
 "nbformat_minor": 5
}
