{
 "cells": [
  {
   "cell_type": "code",
   "execution_count": 5,
   "id": "d0dd1849-98c8-4445-902d-013417dbf52b",
   "metadata": {},
   "outputs": [
    {
     "name": "stderr",
     "output_type": "stream",
     "text": [
      "\u001b[1m\u001b[22m\u001b[36mi\u001b[39m Updating \u001b[34mpecotmr\u001b[39m documentation\n",
      "\u001b[1m\u001b[22m\u001b[31mx\u001b[39m quantile_twas_weight.R:415: \u001b[1m@importFrom\u001b[22m Excluding unknown export from stats:\n",
      "  `qr`.\n",
      "\u001b[1m\u001b[22m\u001b[36mi\u001b[39m Loading \u001b[34mpecotmr\u001b[39m\n",
      "Warning message:\n",
      "\"replacing previous import 'vroom::cols' by 'readr::cols' when loading 'pecotmr'\"\n",
      "\u001b[1m\u001b[22m\u001b[31mx\u001b[39m quail_vqtl.R:10: \u001b[1m@examples\u001b[22m requires a value.\n",
      "\u001b[1m\u001b[22m\u001b[31mx\u001b[39m quail_vqtl.R:11: \u001b[1m@noRd\u001b[22m must not be followed by any text.\n",
      "\u001b[1m\u001b[22m\u001b[31mx\u001b[39m quail_vqtl.R:98: \u001b[1m@examples\u001b[22m requires a value.\n",
      "\u001b[1m\u001b[22m\u001b[31mx\u001b[39m quail_vqtl.R:99: \u001b[1m@noRd\u001b[22m must not be followed by any text.\n",
      "\u001b[1m\u001b[22m\u001b[31mx\u001b[39m quantile_twas_weight.R:415: \u001b[1m@importFrom\u001b[22m Excluding unknown export from stats:\n",
      "  `qr`.\n",
      "\u001b[1m\u001b[22m\u001b[31mx\u001b[39m In topic 'load_regional_univariate_data.Rd': Skipping; no name and/or title.\n",
      "\u001b[1m\u001b[22m\u001b[31mx\u001b[39m In topic 'load_regional_regression_data.Rd': Skipping; no name and/or title.\n",
      "\u001b[1m\u001b[22m\u001b[31mx\u001b[39m In topic 'load_regional_multivariate_data.Rd': Skipping; no name and/or\n",
      "  title.\n",
      "\u001b[1m\u001b[22m\u001b[31mx\u001b[39m In topic 'load_regional_functional_data.Rd': Skipping; no name and/or title.\n",
      "\u001b[1m\u001b[22m\u001b[31mx\u001b[39m In topic 'mrash_weights.Rd': Skipping; no name and/or title.\n"
     ]
    }
   ],
   "source": [
    "devtools::document()"
   ]
  },
  {
   "cell_type": "code",
   "execution_count": null,
   "id": "28154cc4-e22b-4b7e-b257-2605b30e8485",
   "metadata": {},
   "outputs": [],
   "source": []
  }
 ],
 "metadata": {
  "kernelspec": {
   "display_name": "R",
   "language": "R",
   "name": "ir"
  },
  "language_info": {
   "codemirror_mode": "r",
   "file_extension": ".r",
   "mimetype": "text/x-r-source",
   "name": "R",
   "pygments_lexer": "r",
   "version": "4.3.3"
  }
 },
 "nbformat": 4,
 "nbformat_minor": 5
}
